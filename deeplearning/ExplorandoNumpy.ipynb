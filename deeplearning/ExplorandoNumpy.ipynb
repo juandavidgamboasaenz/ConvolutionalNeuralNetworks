{
 "cells": [
  {
   "cell_type": "markdown",
   "source": [
    " # Definicion tipos de datos\n",
    "   es necesario descargar librerias de numpy para poder crear diferentes tipos de datos para operar con numpy.\n",
    "   \n",
    "- Arrays\n",
    "- Matrices"
   ],
   "metadata": {
    "collapsed": false
   },
   "id": "e2499ae38dfc3ad2"
  },
  {
   "cell_type": "code",
   "execution_count": 146,
   "outputs": [],
   "source": [
    "# Importacion de librerias\n",
    "import numpy as np"
   ],
   "metadata": {
    "collapsed": false,
    "ExecuteTime": {
     "end_time": "2024-02-24T21:49:09.494504Z",
     "start_time": "2024-02-24T21:49:09.419327Z"
    }
   },
   "id": "bdcfe189ee6f6205"
  },
  {
   "cell_type": "markdown",
   "source": [
    "Se crean variables nativas de python las que se usan en la creación de variables compatibles con numpy\n"
   ],
   "metadata": {
    "collapsed": false
   },
   "id": "42ecf4c4c1053e56"
  },
  {
   "cell_type": "code",
   "execution_count": 147,
   "outputs": [],
   "source": [
    "scalar = 5\n",
    "array1_v1 = [-5,2,7,1]\n",
    "array1_v2 = [3,4,-1,0]\n",
    "array_inside_arrays1 = [1,4]\n",
    "array_inside_arrays2 = [7,-2]\n",
    "array_inside_arrays3 = [-2,11]\n",
    "array_inside_arrays4 = [9,-2]\n",
    "\n",
    "array_of_arrays = [array_inside_arrays1 , array_inside_arrays2]\n",
    "\n",
    "\n",
    "## Matriz como una conjunto de arrays. (?)\n",
    "matriz1 = np.array([array_inside_arrays3,array_inside_arrays4])\n",
    "matriz2 = np.array(array_of_arrays)\n"
   ],
   "metadata": {
    "collapsed": false,
    "ExecuteTime": {
     "end_time": "2024-02-24T21:49:09.512336Z",
     "start_time": "2024-02-24T21:49:09.423778Z"
    }
   },
   "id": "7d448011a93b0180"
  },
  {
   "cell_type": "code",
   "execution_count": 148,
   "outputs": [],
   "source": [
    "a = np.array(scalar)"
   ],
   "metadata": {
    "collapsed": false,
    "ExecuteTime": {
     "end_time": "2024-02-24T21:49:09.512587Z",
     "start_time": "2024-02-24T21:49:09.426907Z"
    }
   },
   "id": "e22d361e5b6be67f"
  },
  {
   "cell_type": "code",
   "execution_count": 149,
   "outputs": [],
   "source": [
    "v1 = np.array(array1_v1)"
   ],
   "metadata": {
    "collapsed": false,
    "ExecuteTime": {
     "end_time": "2024-02-24T21:49:09.523572Z",
     "start_time": "2024-02-24T21:49:09.430954Z"
    }
   },
   "id": "416fb09cf23b1952"
  },
  {
   "cell_type": "code",
   "execution_count": 150,
   "outputs": [],
   "source": [
    "m1 = np.array(array_of_arrays)"
   ],
   "metadata": {
    "collapsed": false,
    "ExecuteTime": {
     "end_time": "2024-02-24T21:49:09.575311Z",
     "start_time": "2024-02-24T21:49:09.433306Z"
    }
   },
   "id": "2cb44ec271ed46c8"
  },
  {
   "cell_type": "markdown",
   "source": [
    "# Operaciones \n",
    "## Vector por escalar\n"
   ],
   "metadata": {
    "collapsed": false
   },
   "id": "24fff9156332f123"
  },
  {
   "cell_type": "code",
   "execution_count": 151,
   "outputs": [
    {
     "name": "stdout",
     "output_type": "stream",
     "text": [
      "[-3125    32 16807     1]\n"
     ]
    }
   ],
   "source": [
    "# ExE\n",
    "res = v1**a\n",
    "print(res)"
   ],
   "metadata": {
    "collapsed": false,
    "ExecuteTime": {
     "end_time": "2024-02-24T21:49:09.575960Z",
     "start_time": "2024-02-24T21:49:09.437298Z"
    }
   },
   "id": "94579dd5820f4dc8"
  },
  {
   "cell_type": "markdown",
   "source": [
    "# Producto punto entre dos vectores"
   ],
   "metadata": {
    "collapsed": false
   },
   "id": "9a1d5b7e79d66881"
  },
  {
   "cell_type": "code",
   "execution_count": 152,
   "outputs": [
    {
     "name": "stdout",
     "output_type": "stream",
     "text": [
      "-14\n"
     ]
    }
   ],
   "source": [
    "v2 = np.array(array1_v2)\n",
    "res2 = np.dot(v1,v2)\n",
    "print(res2)"
   ],
   "metadata": {
    "collapsed": false,
    "ExecuteTime": {
     "end_time": "2024-02-24T21:49:09.576047Z",
     "start_time": "2024-02-24T21:49:09.439848Z"
    }
   },
   "id": "fbc27a9b8d56af7d"
  },
  {
   "cell_type": "code",
   "execution_count": 153,
   "outputs": [
    {
     "name": "stdout",
     "output_type": "stream",
     "text": [
      "[[ 75 -30]\n",
      " [ -5  40]]\n"
     ]
    },
    {
     "data": {
      "text/plain": "array([[ 75, -30],\n       [ -5,  40]])"
     },
     "execution_count": 153,
     "metadata": {},
     "output_type": "execute_result"
    }
   ],
   "source": [
    "res3 = np.matmul(matriz1,matriz2)\n",
    "print(res3)\n",
    "res3"
   ],
   "metadata": {
    "collapsed": false,
    "ExecuteTime": {
     "end_time": "2024-02-24T21:49:09.576946Z",
     "start_time": "2024-02-24T21:49:09.442862Z"
    }
   },
   "id": "93282568d5d171e5"
  },
  {
   "cell_type": "markdown",
   "source": [
    "## Cambios de dimensión\n",
    "\n",
    "### Method that brings the dimensions of a variable\n",
    "```python\n",
    "a.shape\n",
    "```"
   ],
   "metadata": {
    "collapsed": false
   },
   "id": "ead3f715c906ca1a"
  },
  {
   "cell_type": "code",
   "execution_count": 154,
   "outputs": [
    {
     "data": {
      "text/plain": "()"
     },
     "execution_count": 154,
     "metadata": {},
     "output_type": "execute_result"
    }
   ],
   "source": [
    " a.shape"
   ],
   "metadata": {
    "collapsed": false,
    "ExecuteTime": {
     "end_time": "2024-02-24T21:49:09.577591Z",
     "start_time": "2024-02-24T21:49:09.447489Z"
    }
   },
   "id": "d6d3112e302630c2"
  },
  {
   "cell_type": "code",
   "execution_count": 155,
   "outputs": [
    {
     "data": {
      "text/plain": "(4,)"
     },
     "execution_count": 155,
     "metadata": {},
     "output_type": "execute_result"
    }
   ],
   "source": [
    "v1.shape"
   ],
   "metadata": {
    "collapsed": false,
    "ExecuteTime": {
     "end_time": "2024-02-24T21:49:09.578251Z",
     "start_time": "2024-02-24T21:49:09.450756Z"
    }
   },
   "id": "710b8e31cd0cb6ea"
  },
  {
   "cell_type": "code",
   "execution_count": 156,
   "outputs": [
    {
     "data": {
      "text/plain": "(2, 2)"
     },
     "execution_count": 156,
     "metadata": {},
     "output_type": "execute_result"
    }
   ],
   "source": [
    "m1.shape"
   ],
   "metadata": {
    "collapsed": false,
    "ExecuteTime": {
     "end_time": "2024-02-24T21:49:09.578421Z",
     "start_time": "2024-02-24T21:49:09.454Z"
    }
   },
   "id": "2b5ab747c0563cc4"
  },
  {
   "cell_type": "code",
   "execution_count": 157,
   "outputs": [
    {
     "name": "stdout",
     "output_type": "stream",
     "text": [
      "(1,)\n"
     ]
    }
   ],
   "source": [
    "a1 = a.reshape(1)\n",
    "print(a1.shape)"
   ],
   "metadata": {
    "collapsed": false,
    "ExecuteTime": {
     "end_time": "2024-02-24T21:49:09.578520Z",
     "start_time": "2024-02-24T21:49:09.456818Z"
    }
   },
   "id": "5a03f70f63444336"
  },
  {
   "cell_type": "code",
   "execution_count": 158,
   "outputs": [],
   "source": [
    "a2 = a1.reshape(1,1)"
   ],
   "metadata": {
    "collapsed": false,
    "ExecuteTime": {
     "end_time": "2024-02-24T21:49:09.578560Z",
     "start_time": "2024-02-24T21:49:09.460514Z"
    }
   },
   "id": "ad1bcf3501db6f18"
  },
  {
   "cell_type": "code",
   "execution_count": 159,
   "outputs": [
    {
     "name": "stdout",
     "output_type": "stream",
     "text": [
      "[[5]]\n"
     ]
    }
   ],
   "source": [
    "print(a2)"
   ],
   "metadata": {
    "collapsed": false,
    "ExecuteTime": {
     "end_time": "2024-02-24T21:49:09.578627Z",
     "start_time": "2024-02-24T21:49:09.463062Z"
    }
   },
   "id": "bd9f2dd02c5346b2"
  },
  {
   "cell_type": "code",
   "execution_count": 160,
   "outputs": [
    {
     "name": "stdout",
     "output_type": "stream",
     "text": [
      "[ 1  4  7 -2]\n"
     ]
    }
   ],
   "source": [
    "m0 = m1.reshape(4)\n",
    "print(m0)"
   ],
   "metadata": {
    "collapsed": false,
    "ExecuteTime": {
     "end_time": "2024-02-24T21:49:09.578692Z",
     "start_time": "2024-02-24T21:49:09.465818Z"
    }
   },
   "id": "b2158f594a529d9f"
  },
  {
   "cell_type": "code",
   "execution_count": 160,
   "outputs": [],
   "source": [],
   "metadata": {
    "collapsed": false,
    "ExecuteTime": {
     "end_time": "2024-02-24T21:49:09.578730Z",
     "start_time": "2024-02-24T21:49:09.468771Z"
    }
   },
   "id": "aebdc9759191f192"
  }
 ],
 "metadata": {
  "kernelspec": {
   "display_name": "Python 3",
   "language": "python",
   "name": "python3"
  },
  "language_info": {
   "codemirror_mode": {
    "name": "ipython",
    "version": 2
   },
   "file_extension": ".py",
   "mimetype": "text/x-python",
   "name": "python",
   "nbconvert_exporter": "python",
   "pygments_lexer": "ipython2",
   "version": "2.7.6"
  }
 },
 "nbformat": 4,
 "nbformat_minor": 5
}
