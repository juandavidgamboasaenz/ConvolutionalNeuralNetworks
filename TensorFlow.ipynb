{
 "cells": [
  {
   "cell_type": "markdown",
   "source": [
    "# Install dependencies"
   ],
   "metadata": {
    "collapsed": false
   },
   "id": "bd95ef4e126639da"
  },
  {
   "cell_type": "markdown",
   "source": [
    "\n",
    "## Start installing tensorflow\n",
    "```commandline\n",
    "python3 -m pip install tensorflow\n",
    "```\n",
    "\n",
    "## Verify installation\n",
    "```commandline\n",
    "python3 -c \"import tensorflow as tf; print(tf.reduce_sum(tf.random.normal([1000, 1000])))\"\n",
    "```\n",
    "\n"
   ],
   "metadata": {
    "collapsed": false
   },
   "id": "4a16e277b753789b"
  },
  {
   "cell_type": "markdown",
   "source": [
    "## Install quantum libraries\n",
    "\n",
    "```commandline\n",
    "  pip3 install --upgrade pip\n",
    "  pip3 install tensorflow==2.11.0\n",
    "```"
   ],
   "metadata": {
    "collapsed": false
   },
   "id": "4e9a584eda8f8520"
  },
  {
   "cell_type": "markdown",
   "source": [
    "\n",
    "\n",
    "```python\n",
    "import tensorflow as tf;\n",
    "print(tf.reduce_sum(tf.random.normal([1000, 1000])))\n",
    "```\n",
    "\n",
    "```commandline\n",
    "pip install --upgrade pip\n",
    "```"
   ],
   "metadata": {
    "collapsed": false
   },
   "id": "b7c4d8a2184b3746"
  },
  {
   "cell_type": "code",
   "outputs": [],
   "source": [],
   "metadata": {
    "collapsed": false,
    "ExecuteTime": {
     "end_time": "2024-02-07T03:30:17.879905Z",
     "start_time": "2024-02-07T03:30:17.877563Z"
    }
   },
   "id": "89640fa053314ca3",
   "execution_count": 0
  },
  {
   "cell_type": "markdown",
   "source": [
    "## Install Tensorflow quantum\n",
    "```commandline\n",
    "pip3 install -U tensorflow-quantum\n",
    "```"
   ],
   "metadata": {
    "collapsed": false
   },
   "id": "db5a42322fd079b7"
  },
  {
   "cell_type": "markdown",
   "source": [],
   "metadata": {
    "collapsed": false
   },
   "id": "4e5c5102be318fa0"
  }
 ],
 "metadata": {
  "kernelspec": {
   "name": "python3",
   "language": "python",
   "display_name": "Python 3 (ipykernel)"
  },
  "language_info": {
   "codemirror_mode": {
    "name": "ipython",
    "version": 2
   },
   "file_extension": ".py",
   "mimetype": "text/x-python",
   "name": "python",
   "nbconvert_exporter": "python",
   "pygments_lexer": "ipython2",
   "version": "2.7.6"
  }
 },
 "nbformat": 4,
 "nbformat_minor": 5
}
