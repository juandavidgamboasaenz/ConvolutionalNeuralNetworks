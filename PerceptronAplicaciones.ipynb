{
 "cells": [
  {
   "cell_type": "code",
   "execution_count": 1,
   "id": "initial_id",
   "metadata": {
    "collapsed": true,
    "ExecuteTime": {
     "end_time": "2024-02-29T00:40:46.937847Z",
     "start_time": "2024-02-29T00:40:46.864113Z"
    }
   },
   "outputs": [],
   "source": [
    "import numpy as np"
   ]
  },
  {
   "cell_type": "code",
   "execution_count": 3,
   "outputs": [],
   "source": [
    "def ReLU(vector_1 ,vector_2):\n",
    "    return np.maximum(vector_1 ,vector_2);"
   ],
   "metadata": {
    "collapsed": false,
    "ExecuteTime": {
     "end_time": "2024-02-09T02:53:03.102201Z",
     "start_time": "2024-02-09T02:53:03.093080Z"
    }
   },
   "id": "ccca0ac71afc5667"
  },
  {
   "cell_type": "code",
   "execution_count": 2,
   "outputs": [],
   "source": [
    "x = np.array([[0, 0],[0, 1], [1, 0], [1, 1]])\n",
    "y = np.array([350, 200, 200, 50])\n",
    "b = 1 \n",
    "w = np.array([-150, -150, 350, 300])"
   ],
   "metadata": {
    "collapsed": false,
    "ExecuteTime": {
     "end_time": "2024-02-29T00:41:17.894830Z",
     "start_time": "2024-02-29T00:41:17.887957Z"
    }
   },
   "id": "b59c913a28244564"
  },
  {
   "cell_type": "code",
   "execution_count": 4,
   "outputs": [],
   "source": [
    "h = np.dot(w, x)"
   ],
   "metadata": {
    "collapsed": false,
    "ExecuteTime": {
     "end_time": "2024-02-29T00:42:27.519471Z",
     "start_time": "2024-02-29T00:42:27.511366Z"
    }
   },
   "id": "16823a71ea64ca66"
  },
  {
   "cell_type": "code",
   "execution_count": 5,
   "outputs": [
    {
     "data": {
      "text/plain": "array([650, 150])"
     },
     "execution_count": 5,
     "metadata": {},
     "output_type": "execute_result"
    }
   ],
   "source": [
    "h"
   ],
   "metadata": {
    "collapsed": false,
    "ExecuteTime": {
     "end_time": "2024-02-29T00:42:32.705597Z",
     "start_time": "2024-02-29T00:42:32.683075Z"
    }
   },
   "id": "fd5e5ea9dc4802f5"
  },
  {
   "cell_type": "code",
   "execution_count": null,
   "outputs": [],
   "source": [],
   "metadata": {
    "collapsed": false
   },
   "id": "3f8758b75f943cff"
  }
 ],
 "metadata": {
  "kernelspec": {
   "display_name": "Python 3",
   "language": "python",
   "name": "python3"
  },
  "language_info": {
   "codemirror_mode": {
    "name": "ipython",
    "version": 2
   },
   "file_extension": ".py",
   "mimetype": "text/x-python",
   "name": "python",
   "nbconvert_exporter": "python",
   "pygments_lexer": "ipython2",
   "version": "2.7.6"
  }
 },
 "nbformat": 4,
 "nbformat_minor": 5
}
